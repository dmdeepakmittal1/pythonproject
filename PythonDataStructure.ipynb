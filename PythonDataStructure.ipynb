{
 "cells": [
  {
   "cell_type": "markdown",
   "id": "110ce3c1",
   "metadata": {},
   "source": [
    "# Data Structure\n",
    "- A Data Structure is an object in a program, which can hold a collection of data.\n",
    "- Simple DS - Array (e.g. - list of student names)\n",
    "- Complex DS - Dictionary (e.g. - Telephone Directory)"
   ]
  },
  {
   "cell_type": "markdown",
   "id": "2857671e",
   "metadata": {},
   "source": [
    "#### Objective\n",
    "- Use `list`, `tuple` and `dictionary` data structure\n",
    "- Learn to select right data structure for an application."
   ]
  },
  {
   "cell_type": "markdown",
   "id": "857e6438",
   "metadata": {},
   "source": [
    "### LIST\n",
    "- Difference between an arran and list is, `Array` contains `Homogeneous` elements, but `List` contains `Hetrogenerous` types of elements."
   ]
  },
  {
   "cell_type": "markdown",
   "id": "da1ea70f",
   "metadata": {},
   "source": [
    "Use of `len()` and `type()`"
   ]
  },
  {
   "cell_type": "code",
   "execution_count": 6,
   "id": "cb37e05f",
   "metadata": {},
   "outputs": [
    {
     "name": "stdout",
     "output_type": "stream",
     "text": [
      "Lab group members : ['deepak', 'kumar', 'amit', 'suraj']\n",
      "Size of lab group members : 4\n",
      "Check the python object type : <class 'list'>\n"
     ]
    }
   ],
   "source": [
    "lab_group = [\"deepak\", \"kumar\", \"amit\", \"suraj\"]\n",
    "print(\"Lab group members : {}\".format(lab_group))\n",
    "\n",
    "# len()\n",
    "print(\"Size of lab group members : {}\".format(len(lab_group)))\n",
    "\n",
    "# type()\n",
    "print(\"Check the python object type : {}\".format(type(lab_group)))"
   ]
  },
  {
   "cell_type": "markdown",
   "id": "4d35dd77",
   "metadata": {},
   "source": [
    "Creating `empty list`"
   ]
  },
  {
   "cell_type": "code",
   "execution_count": 11,
   "id": "c0019fd6",
   "metadata": {},
   "outputs": [
    {
     "data": {
      "text/plain": [
       "[]"
      ]
     },
     "execution_count": 11,
     "metadata": {},
     "output_type": "execute_result"
    }
   ],
   "source": [
    "my_list = []\n",
    "my_list"
   ]
  },
  {
   "cell_type": "markdown",
   "id": "ec10e4a2",
   "metadata": {},
   "source": [
    "List of `repeated values`"
   ]
  },
  {
   "cell_type": "code",
   "execution_count": 9,
   "id": "a5c2ee2d",
   "metadata": {},
   "outputs": [
    {
     "data": {
      "text/plain": [
       "['Deepak', 'Deepak', 'Deepak', 'Deepak', 'Deepak']"
      ]
     },
     "execution_count": 9,
     "metadata": {},
     "output_type": "execute_result"
    }
   ],
   "source": [
    "my_list = [\"Deepak\"]*5\n",
    "my_list"
   ]
  },
  {
   "cell_type": "markdown",
   "id": "1bd4b909",
   "metadata": {},
   "source": [
    "`Iterating list elements`"
   ]
  },
  {
   "cell_type": "code",
   "execution_count": 14,
   "id": "d3edbb03",
   "metadata": {},
   "outputs": [
    {
     "name": "stdout",
     "output_type": "stream",
     "text": [
      "deepak\n",
      "kumar\n",
      "amit\n",
      "suraj\n"
     ]
    }
   ],
   "source": [
    "for name in lab_group:\n",
    "    print(name)"
   ]
  },
  {
   "cell_type": "markdown",
   "id": "e492be65",
   "metadata": {},
   "source": [
    "`Iterate list elements with their index value`"
   ]
  },
  {
   "cell_type": "code",
   "execution_count": 17,
   "id": "e53ebc3e",
   "metadata": {},
   "outputs": [
    {
     "name": "stdout",
     "output_type": "stream",
     "text": [
      "0 deepak\n",
      "1 kumar\n",
      "2 amit\n",
      "3 suraj\n"
     ]
    }
   ],
   "source": [
    "for n, name in enumerate(lab_group):\n",
    "    print(n , name)"
   ]
  },
  {
   "cell_type": "markdown",
   "id": "5a538513",
   "metadata": {},
   "source": [
    "`Sorting`"
   ]
  },
  {
   "cell_type": "code",
   "execution_count": 19,
   "id": "20c2a6c8",
   "metadata": {},
   "outputs": [
    {
     "name": "stdout",
     "output_type": "stream",
     "text": [
      "Origional list of lab members :  ['amit', 'deepak', 'kumar', 'suraj']\n",
      "Sorted list of lab members :  ['amit', 'deepak', 'kumar', 'suraj']\n"
     ]
    }
   ],
   "source": [
    "print(\"Origional list of lab members : \", lab_group)\n",
    "lab_group.sort()\n",
    "print(\"Sorted list of lab members : \", lab_group)"
   ]
  },
  {
   "cell_type": "code",
   "execution_count": 23,
   "id": "eeac45a6",
   "metadata": {},
   "outputs": [
    {
     "name": "stdout",
     "output_type": "stream",
     "text": [
      "Unsorted list of lab members : ['deepak', 'kumar', 'amit', 'suraj']\n",
      "Unsorted list of lab members : ['deepak', 'kumar', 'amit', 'suraj']\n",
      "Sorted list of lab members : ['amit', 'deepak', 'kumar', 'suraj']\n"
     ]
    }
   ],
   "source": [
    "# We can use sorted() method as well, but it will store sorted elements in new list.\n",
    "lab_group = [\"deepak\", \"kumar\", \"amit\", \"suraj\"]\n",
    "print(\"Unsorted list of lab members :\", lab_group)\n",
    "sorted_lab_group = sorted(lab_group)\n",
    "print(\"Unsorted list of lab members :\", lab_group) # sorted() don't update the original list.\n",
    "print(\"Sorted list of lab members :\", sorted_lab_group)"
   ]
  },
  {
   "cell_type": "markdown",
   "id": "777b5144",
   "metadata": {},
   "source": [
    "Use of `append()`, `pop()`, `range()`"
   ]
  },
  {
   "cell_type": "code",
   "execution_count": 30,
   "id": "467eeea3",
   "metadata": {},
   "outputs": [
    {
     "name": "stdout",
     "output_type": "stream",
     "text": [
      "['deepak', 'kumar', 'amit', 'suraj', 'kyle']\n",
      "['deepak', 'kumar', 'amit', 'suraj']\n",
      "deepak\n",
      "kumar\n",
      "amit\n",
      "suraj\n"
     ]
    }
   ],
   "source": [
    "# append()\n",
    "lab_group = [\"deepak\", \"kumar\", \"amit\", \"suraj\"]\n",
    "lab_group.append(\"kyle\")\n",
    "print(lab_group)\n",
    "\n",
    "# pop() - Remove any particular indexed elelement.\n",
    "lab_group.pop(4)\n",
    "print(lab_group)\n",
    "\n",
    "# range()\n",
    "for i in range(len(lab_group)):\n",
    "    print(lab_group[i])"
   ]
  },
  {
   "cell_type": "markdown",
   "id": "91fcde7d",
   "metadata": {},
   "source": [
    "`Dot Product` of two vectors"
   ]
  },
  {
   "cell_type": "code",
   "execution_count": 33,
   "id": "74311eb5",
   "metadata": {},
   "outputs": [
    {
     "name": "stdout",
     "output_type": "stream",
     "text": [
      "Dot Product of two vectors :  128.0\n"
     ]
    }
   ],
   "source": [
    "x = [2, 4, 3, 9, 7]\n",
    "y = [3, 2, 4, 9, 3]\n",
    "\n",
    "dot_product = 0.0\n",
    "for i in range(len(x)):\n",
    "    dot_product += x[i]*y[i]\n",
    "\n",
    "print(\"Dot Product of two vectors : \", dot_product)"
   ]
  },
  {
   "cell_type": "markdown",
   "id": "dd190f12",
   "metadata": {},
   "source": [
    "`Hetrogeneity`"
   ]
  },
  {
   "cell_type": "code",
   "execution_count": 34,
   "id": "0be1949c",
   "metadata": {},
   "outputs": [
    {
     "name": "stdout",
     "output_type": "stream",
     "text": [
      "1 <class 'int'>\n",
      "1.0 <class 'float'>\n",
      "Deepak <class 'str'>\n",
      "(1+2j) <class 'complex'>\n",
      "True <class 'bool'>\n"
     ]
    }
   ],
   "source": [
    "mixed_list = [1, 1.0, \"Deepak\", 1+2j, True]\n",
    "for item in mixed_list:\n",
    "    print(item, type(item))"
   ]
  },
  {
   "cell_type": "markdown",
   "id": "2ab3e7cb",
   "metadata": {},
   "source": [
    "`List Comprehension` - A way to build a list from another list."
   ]
  },
  {
   "cell_type": "code",
   "execution_count": 56,
   "id": "6a746d3d",
   "metadata": {},
   "outputs": [
    {
     "name": "stdout",
     "output_type": "stream",
     "text": [
      "[4, 9, 16, 25, 36]\n"
     ]
    }
   ],
   "source": [
    "# Example-1: Square of each element of a list.\n",
    "x = [2,3,4,5,6]\n",
    "y = [i*i for i in x]\n",
    "print(y)"
   ]
  },
  {
   "cell_type": "code",
   "execution_count": 55,
   "id": "03b713af",
   "metadata": {},
   "outputs": [
    {
     "name": "stdout",
     "output_type": "stream",
     "text": [
      "[2, 3, 5, 7, 11, 13, 17, 19, 23, 29, 31, 37, 41, 43, 47, 53, 59, 61, 67, 71, 73, 79, 83, 89, 97]\n"
     ]
    }
   ],
   "source": [
    "# Example-2:  Finding prime numbers between 1 to 100.\n",
    "n = 100\n",
    "prime_number = [i for i in range(2, n+1) if all(i%j !=0 for j in range(2, int(i**0.5)+1))]\n",
    "print(prime_number)"
   ]
  },
  {
   "cell_type": "code",
   "execution_count": 60,
   "id": "df625ee4",
   "metadata": {},
   "outputs": [
    {
     "name": "stdout",
     "output_type": "stream",
     "text": [
      "Original list :  ['Khalid', 'John', 'Cho', 'Janice', 'Malik']\n",
      "Updated list :  ['Khalid.', 'Janice.']\n"
     ]
    }
   ],
   "source": [
    "# Example-3: As another example, say we have a list of names and we want to \n",
    "# - build a new list of names that contains only the names with more than 5 characters; and \n",
    "# - for these names we want to add a full stop at the end.\n",
    "\n",
    "lab_group = [\"Khalid\", \"John\", \"Cho\", \"Janice\", \"Malik\"]\n",
    "updated_lab_group = [name+'.' for name in lab_group if len(name)>5]\n",
    "print(\"Original list : \", lab_group)\n",
    "print(\"Updated list : \", updated_lab_group)"
   ]
  },
  {
   "cell_type": "markdown",
   "id": "8b3bd496",
   "metadata": {},
   "source": [
    "### TUPLES\n",
    "- The main difference between `tuple` and `list` is tuple is immutable means, its length can't be changed, but its values can be changed, whereas list is mutable."
   ]
  },
  {
   "cell_type": "code",
   "execution_count": 64,
   "id": "34422c52",
   "metadata": {},
   "outputs": [
    {
     "name": "stdout",
     "output_type": "stream",
     "text": [
      "Room Allocation : ('Laura', 32)\n",
      "Length of tuple : 2\n",
      "Type : <class 'tuple'>\n"
     ]
    }
   ],
   "source": [
    "room = (\"Laura\", 32)\n",
    "print(\"Room Allocation : {}\".format(room))\n",
    "print(\"Length of tuple : {}\".format(len(room)))\n",
    "print(\"Type : {}\".format(type(room)))"
   ]
  },
  {
   "cell_type": "markdown",
   "id": "a4e66779",
   "metadata": {},
   "source": [
    "`Iterating the elements` : Element iteration is same as list."
   ]
  },
  {
   "cell_type": "code",
   "execution_count": 67,
   "id": "d71a5c12",
   "metadata": {},
   "outputs": [
    {
     "name": "stdout",
     "output_type": "stream",
     "text": [
      "Laura\n",
      "32\n"
     ]
    }
   ],
   "source": [
    "for r in room:\n",
    "    print(r)"
   ]
  },
  {
   "cell_type": "markdown",
   "id": "80895ebb",
   "metadata": {},
   "source": [
    "`sorting` - sort() method not supported by tuple. For sorting we have to use sorted() only."
   ]
  },
  {
   "cell_type": "code",
   "execution_count": 71,
   "id": "f1f009af",
   "metadata": {},
   "outputs": [
    {
     "name": "stdout",
     "output_type": "stream",
     "text": [
      "Original tuple :  (1, 3, 2, 9, 8)\n",
      "Sorted tuple :  [1, 2, 3, 8, 9]\n"
     ]
    }
   ],
   "source": [
    "t1 = (1,3,2,9,8)\n",
    "# t1.sort()\n",
    "# print(\"Print sorted tuple : \", t1)\n",
    "# 'tuple' object has no attribute 'sort'\n",
    "t2 = sorted(t1)\n",
    "print(\"Original tuple : \", t1)\n",
    "print(\"Sorted tuple : \", t2)"
   ]
  },
  {
   "cell_type": "markdown",
   "id": "83773370",
   "metadata": {},
   "source": [
    "### DICTIONARY (Map)\n",
    "- It is a list of key-value pairs.\n",
    "- List and tuples stores elements in continuous piece of memory, but dictionary stores differently, which allows us elements to look up using a key."
   ]
  },
  {
   "cell_type": "code",
   "execution_count": 74,
   "id": "559a3b2c",
   "metadata": {},
   "outputs": [
    {
     "name": "stdout",
     "output_type": "stream",
     "text": [
      "Room Allocation :  {'Adrian': None, 'Revathi': 32, 'Segun': 31, 'Penelope': 28, 'Ankit': 28, 'Gaurav': 19}\n",
      "Size of dictionary :  6\n",
      "Type of dictionary :  <class 'dict'>\n"
     ]
    }
   ],
   "source": [
    "room_allocation = {\"Adrian\": None, \"Revathi\": 32, \"Segun\": 31, \"Penelope\": 28, \"Ankit\": 28, \"Gaurav\": 19}\n",
    "print(\"Room Allocation : \", room_allocation)\n",
    "print(\"Size of dictionary : \", len(room_allocation))\n",
    "print(\"Type of dictionary : \", type(room_allocation))"
   ]
  },
  {
   "cell_type": "markdown",
   "id": "5fbb59e2",
   "metadata": {},
   "source": [
    "`Iteration`"
   ]
  },
  {
   "cell_type": "code",
   "execution_count": 82,
   "id": "0eecf15e",
   "metadata": {},
   "outputs": [
    {
     "name": "stdout",
     "output_type": "stream",
     "text": [
      "For Adrian allocated room number is None.\n",
      "For Revathi allocated room number is 32.\n",
      "For Segun allocated room number is 31.\n",
      "For Penelope allocated room number is 28.\n",
      "For Ankit allocated room number is 28.\n",
      "For Gaurav allocated room number is 19.\n",
      "List of students :  dict_keys(['Adrian', 'Revathi', 'Segun', 'Penelope', 'Ankit', 'Gaurav'])\n",
      "List of available rooms :  dict_values([None, 32, 31, 28, 28, 19])\n",
      "Room allocated to Revathi is :  32\n"
     ]
    }
   ],
   "source": [
    "# Iterating all elements.\n",
    "for name, room in room_allocation.items():\n",
    "    print(\"For {} allocated room number is {}.\".format(name, room))\n",
    "\n",
    "# Iterating only keys.\n",
    "print(\"List of students : \" , room_allocation.keys())\n",
    "\n",
    "# Iterating only values.\n",
    "print(\"List of available rooms : \", room_allocation.values())\n",
    "\n",
    "# Iterating to find particular student room number.\n",
    "print(\"Room allocated to Revathi is : \" , room_allocation[\"Revathi\"])"
   ]
  },
  {
   "cell_type": "markdown",
   "id": "2a57122e",
   "metadata": {},
   "source": [
    "`Inverse key-value pairs`"
   ]
  },
  {
   "cell_type": "code",
   "execution_count": 84,
   "id": "7ea9ea11",
   "metadata": {},
   "outputs": [
    {
     "name": "stdout",
     "output_type": "stream",
     "text": [
      "{None: 'Adrian', 32: 'Revathi', 31: 'Segun', 28: 'Ankit', 19: 'Gaurav'}\n"
     ]
    }
   ],
   "source": [
    "inversed_room_allocation = {}\n",
    "\n",
    "for name, room in room_allocation.items():\n",
    "    inversed_room_allocation[room] = name\n",
    "\n",
    "print(inversed_room_allocation)"
   ]
  },
  {
   "cell_type": "code",
   "execution_count": null,
   "id": "5320fe67",
   "metadata": {},
   "outputs": [],
   "source": []
  },
  {
   "cell_type": "code",
   "execution_count": null,
   "id": "a1e406a4",
   "metadata": {},
   "outputs": [],
   "source": []
  },
  {
   "cell_type": "code",
   "execution_count": null,
   "id": "0f0a4316",
   "metadata": {},
   "outputs": [],
   "source": []
  }
 ],
 "metadata": {
  "kernelspec": {
   "display_name": "Python 3 (ipykernel)",
   "language": "python",
   "name": "python3"
  },
  "language_info": {
   "codemirror_mode": {
    "name": "ipython",
    "version": 3
   },
   "file_extension": ".py",
   "mimetype": "text/x-python",
   "name": "python",
   "nbconvert_exporter": "python",
   "pygments_lexer": "ipython3",
   "version": "3.8.12"
  }
 },
 "nbformat": 4,
 "nbformat_minor": 5
}
