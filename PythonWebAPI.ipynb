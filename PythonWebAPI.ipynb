{
 "cells": [
  {
   "cell_type": "markdown",
   "id": "8d608a27",
   "metadata": {},
   "source": [
    "# Documentation - Python Web API\n",
    "****\n",
    "\n",
    "## API (Application Programming Interface)\n",
    "- An Interaface used by programs to interact with applications. \n",
    "- APIs allows two different program to interact with each other.\n",
    "- Example: - Google Map APIs are used by Yelp, Uber, lyft.\n",
    "- Pros\n",
    "    - Time: saves lot of time of companies to create framework to interact with other applications.\n",
    "    - Focus: Companies focus on their own business. They can easily interact with other businesses via APIs.\n",
    "    - Cost: Comapnies saves a lot because of not spending to setup intermediate framework to interact with other businesses.\n",
    "    - Accessibility: - Almost APIs are accessible via any programming languages.\n",
    "- Cons\n",
    "    - Security: Using data of other companies is always a security issue.\n",
    "    - Reliability: Your busiess rely on API calls of another businesses, if API fails, then your business is at risk.\n",
    "    \n",
    "## REST (REpresentational State Transfer)\n",
    "- RE refers the resources provided in different forms like json, xml etc.\n",
    "- ST refers a type of transaction on these resources.\n",
    "\n",
    "## REST Server and Client Architecture\n",
    "- Request - Client is the device/application that request for the information.\n",
    "- Response - Server are the computer, who process the request and return result as response.\n",
    "- API sits between client and server. Which work as a bridge between two different software/programs.\n",
    "\n",
    "## Python API\n",
    "- Python sends response backin the form of JSON (Java Script Object Notation).\n",
    "- JSON is like a dictionary in Python.\n",
    "- JSON is a data format (a string), while dictionary is a Python Data Structure (In Memory Object)\n",
    "\n",
    "## API Requests\n",
    "- API Request = Base URL (endpoint) + API Key + Search Query \n",
    "- Base URL - is the url/website where we want to make request.\n",
    "- API Key - can be treated as authentication key.\n",
    "- Search Query - Query used to get desired result back.\n",
    "    - NOTE: - API Key or Search Key follows Base URL with '?' symbol. And multiple queries are separated by '&'.\n",
    "    - Example: http://api.openweathermap.org/data/2.5/weather?apikey=ad723490023421234&q=Cypress&Unit=metric"
   ]
  },
  {
   "cell_type": "markdown",
   "id": "ef3e2281",
   "metadata": {},
   "source": [
    "# OBJECTIVE\n",
    "***\n",
    "- Learn how to communicate with APIs in your python applicaiton.\n",
    "- Learn how to get data in JSON format.\n",
    "- Learn how to make multiple API calls.\n",
    "- Learn how to convert json response in Pandas dataframe.\n",
    "\n",
    "### Follow below 4 steps:\n",
    "- Import library dependencies\n",
    "- Create Query URL (which contains base uri, api key and search query)\n",
    "- Perform request call and convert response to JSON.\n",
    "- Extract data from JSON to dataframe."
   ]
  },
  {
   "cell_type": "markdown",
   "id": "28d0276b",
   "metadata": {},
   "source": [
    "# TASK\n",
    "***\n",
    "Get weather data from Los Angles city"
   ]
  },
  {
   "cell_type": "markdown",
   "id": "47aac28b",
   "metadata": {},
   "source": [
    "#### Step 0 - Create an API Key\n",
    "- Create account in https://openweathermap.org/\n",
    "- Go to My API Keys and collect default API Keys."
   ]
  },
  {
   "cell_type": "markdown",
   "id": "7c7f8fd8",
   "metadata": {},
   "source": [
    "#### Step 1 - Import dependent libraries"
   ]
  },
  {
   "cell_type": "code",
   "execution_count": 1,
   "id": "88ef1667",
   "metadata": {},
   "outputs": [],
   "source": [
    "__author__ = \"Deepak Mittal\"\n",
    "__copyright__ = \"Copyright 2019\"\n",
    "__email__ = \"dmdeepakmittal1@gmail.com\"\n",
    "\n",
    "import pandas as pd\n",
    "import json\n",
    "import requests as req"
   ]
  },
  {
   "cell_type": "markdown",
   "id": "aa6c0f80",
   "metadata": {},
   "source": [
    "#### Step 2 - Create Query URL"
   ]
  },
  {
   "cell_type": "code",
   "execution_count": 2,
   "id": "b50940f8",
   "metadata": {},
   "outputs": [
    {
     "data": {
      "text/plain": [
       "'http://api.openweathermap.org/data/2.5/weather?apikey=7d8cdeac82c25a4f8262c64af2e5bd26&q=Los Angeles&units=metric'"
      ]
     },
     "execution_count": 2,
     "metadata": {},
     "output_type": "execute_result"
    }
   ],
   "source": [
    "# A. base url\n",
    "base_url = \"http://api.openweathermap.org/data/2.5/weather\"\n",
    "\n",
    "# B. API Key\n",
    "api_key = \"7d8cdeac82c25a4f8262c64af2e5bd26\"\n",
    "\n",
    "# C. Query Filter (Search Query)\n",
    "query_city = \"Los Angeles\"\n",
    "query_units = \"metric\"\n",
    "\n",
    "# Query URL\n",
    "query_url = base_url + \"?apikey=\" + api_key + \"&q=\" + query_city + \"&units=\" + query_units\n",
    "\n",
    "query_url"
   ]
  },
  {
   "cell_type": "markdown",
   "id": "85c421d0",
   "metadata": {},
   "source": [
    "#### Step 3 - Perform a Request call and convert to JSON"
   ]
  },
  {
   "cell_type": "code",
   "execution_count": 3,
   "id": "1e713034",
   "metadata": {},
   "outputs": [
    {
     "data": {
      "text/plain": [
       "<Response [200]>"
      ]
     },
     "execution_count": 3,
     "metadata": {},
     "output_type": "execute_result"
    }
   ],
   "source": [
    "# Using req.get() method we can get a response from weather map api with the filtered queries.\n",
    "# Requests will allow to send HTTP requests using Python.\n",
    "# Response 200 means success.\n",
    "\n",
    "response = req.get(query_url)\n",
    "response\n",
    "# type(response)     => requests.models.Response"
   ]
  },
  {
   "cell_type": "code",
   "execution_count": 4,
   "id": "12df143a",
   "metadata": {},
   "outputs": [
    {
     "data": {
      "text/plain": [
       "{'coord': {'lon': -118.2437, 'lat': 34.0522},\n",
       " 'weather': [{'id': 800,\n",
       "   'main': 'Clear',\n",
       "   'description': 'clear sky',\n",
       "   'icon': '01n'}],\n",
       " 'base': 'stations',\n",
       " 'main': {'temp': 12.87,\n",
       "  'feels_like': 11.75,\n",
       "  'temp_min': 8.83,\n",
       "  'temp_max': 15.34,\n",
       "  'pressure': 1019,\n",
       "  'humidity': 59},\n",
       " 'visibility': 10000,\n",
       " 'wind': {'speed': 0, 'deg': 0},\n",
       " 'clouds': {'all': 1},\n",
       " 'dt': 1639278480,\n",
       " 'sys': {'type': 1,\n",
       "  'id': 3694,\n",
       "  'country': 'US',\n",
       "  'sunrise': 1639234129,\n",
       "  'sunset': 1639269855},\n",
       " 'timezone': -28800,\n",
       " 'id': 5368361,\n",
       " 'name': 'Los Angeles',\n",
       " 'cod': 200}"
      ]
     },
     "execution_count": 4,
     "metadata": {},
     "output_type": "execute_result"
    }
   ],
   "source": [
    "# response.json() will give the output in json format.\n",
    "resp  = response.json()\n",
    "resp\n",
    "# type(resp) => dict"
   ]
  },
  {
   "cell_type": "code",
   "execution_count": 5,
   "id": "6a5f7c0a",
   "metadata": {},
   "outputs": [
    {
     "name": "stdout",
     "output_type": "stream",
     "text": [
      "{\n",
      "    \"base\": \"stations\",\n",
      "    \"clouds\": {\n",
      "        \"all\": 1\n",
      "    },\n",
      "    \"cod\": 200,\n",
      "    \"coord\": {\n",
      "        \"lat\": 34.0522,\n",
      "        \"lon\": -118.2437\n",
      "    },\n",
      "    \"dt\": 1639278480,\n",
      "    \"id\": 5368361,\n",
      "    \"main\": {\n",
      "        \"feels_like\": 11.75,\n",
      "        \"humidity\": 59,\n",
      "        \"pressure\": 1019,\n",
      "        \"temp\": 12.87,\n",
      "        \"temp_max\": 15.34,\n",
      "        \"temp_min\": 8.83\n",
      "    },\n",
      "    \"name\": \"Los Angeles\",\n",
      "    \"sys\": {\n",
      "        \"country\": \"US\",\n",
      "        \"id\": 3694,\n",
      "        \"sunrise\": 1639234129,\n",
      "        \"sunset\": 1639269855,\n",
      "        \"type\": 1\n",
      "    },\n",
      "    \"timezone\": -28800,\n",
      "    \"visibility\": 10000,\n",
      "    \"weather\": [\n",
      "        {\n",
      "            \"description\": \"clear sky\",\n",
      "            \"icon\": \"01n\",\n",
      "            \"id\": 800,\n",
      "            \"main\": \"Clear\"\n",
      "        }\n",
      "    ],\n",
      "    \"wind\": {\n",
      "        \"deg\": 0,\n",
      "        \"speed\": 0\n",
      "    }\n",
      "}\n"
     ]
    }
   ],
   "source": [
    "# use json.loads() to align and parse the response in proper format.\n",
    "print(json.dumps(resp, indent=4, sort_keys=True))"
   ]
  },
  {
   "cell_type": "markdown",
   "id": "f78f645f",
   "metadata": {},
   "source": [
    "#### Step 4 - Extract data from json format"
   ]
  },
  {
   "cell_type": "code",
   "execution_count": 6,
   "id": "50e79381",
   "metadata": {},
   "outputs": [
    {
     "name": "stdout",
     "output_type": "stream",
     "text": [
      "Temprature is : 12.87\n",
      "Weather desc is : clear sky\n"
     ]
    }
   ],
   "source": [
    "temprature = resp['main']['temp']\n",
    "print(\"Temprature is : \" + str(temprature))\n",
    "\n",
    "weather_desc = resp['weather'][0]['description']\n",
    "print(\"Weather desc is : \" + weather_desc)"
   ]
  },
  {
   "cell_type": "markdown",
   "id": "6d4aedb1",
   "metadata": {},
   "source": [
    "#### Performing Multiple API Calls\n",
    "Example - Fetch weather details for multiple countries."
   ]
  },
  {
   "cell_type": "code",
   "execution_count": 7,
   "id": "87c667e3",
   "metadata": {},
   "outputs": [
    {
     "data": {
      "text/plain": [
       "[{'coord': {'lon': -118.2437, 'lat': 34.0522},\n",
       "  'weather': [{'id': 800,\n",
       "    'main': 'Clear',\n",
       "    'description': 'clear sky',\n",
       "    'icon': '01n'}],\n",
       "  'base': 'stations',\n",
       "  'main': {'temp': 12.87,\n",
       "   'feels_like': 11.75,\n",
       "   'temp_min': 8.83,\n",
       "   'temp_max': 15.34,\n",
       "   'pressure': 1019,\n",
       "   'humidity': 59},\n",
       "  'visibility': 10000,\n",
       "  'wind': {'speed': 0, 'deg': 0},\n",
       "  'clouds': {'all': 1},\n",
       "  'dt': 1639278480,\n",
       "  'sys': {'type': 1,\n",
       "   'id': 3694,\n",
       "   'country': 'US',\n",
       "   'sunrise': 1639234129,\n",
       "   'sunset': 1639269855},\n",
       "  'timezone': -28800,\n",
       "  'id': 5368361,\n",
       "  'name': 'Los Angeles',\n",
       "  'cod': 200},\n",
       " {'coord': {'lon': -0.1257, 'lat': 51.5085},\n",
       "  'weather': [{'id': 802,\n",
       "    'main': 'Clouds',\n",
       "    'description': 'scattered clouds',\n",
       "    'icon': '03n'}],\n",
       "  'base': 'stations',\n",
       "  'main': {'temp': 10.96,\n",
       "   'feels_like': 10.57,\n",
       "   'temp_min': 10.2,\n",
       "   'temp_max': 11.81,\n",
       "   'pressure': 1017,\n",
       "   'humidity': 94},\n",
       "  'visibility': 7000,\n",
       "  'wind': {'speed': 5.14, 'deg': 230},\n",
       "  'clouds': {'all': 40},\n",
       "  'dt': 1639278321,\n",
       "  'sys': {'type': 2,\n",
       "   'id': 2019646,\n",
       "   'country': 'GB',\n",
       "   'sunrise': 1639295835,\n",
       "   'sunset': 1639324289},\n",
       "  'timezone': 0,\n",
       "  'id': 2643743,\n",
       "  'name': 'London',\n",
       "  'cod': 200},\n",
       " {'coord': {'lon': 2.3488, 'lat': 48.8534},\n",
       "  'weather': [{'id': 701,\n",
       "    'main': 'Mist',\n",
       "    'description': 'mist',\n",
       "    'icon': '50n'}],\n",
       "  'base': 'stations',\n",
       "  'main': {'temp': 6.83,\n",
       "   'feels_like': 6.83,\n",
       "   'temp_min': 5.48,\n",
       "   'temp_max': 7.77,\n",
       "   'pressure': 1023,\n",
       "   'humidity': 97},\n",
       "  'visibility': 5000,\n",
       "  'wind': {'speed': 0.45, 'deg': 203, 'gust': 2.24},\n",
       "  'clouds': {'all': 90},\n",
       "  'dt': 1639278533,\n",
       "  'sys': {'type': 2,\n",
       "   'id': 2041230,\n",
       "   'country': 'FR',\n",
       "   'sunrise': 1639294503,\n",
       "   'sunset': 1639324434},\n",
       "  'timezone': 3600,\n",
       "  'id': 2988507,\n",
       "  'name': 'Paris',\n",
       "  'cod': 200},\n",
       " {'coord': {'lon': -115.1372, 'lat': 36.175},\n",
       "  'weather': [{'id': 803,\n",
       "    'main': 'Clouds',\n",
       "    'description': 'broken clouds',\n",
       "    'icon': '04n'}],\n",
       "  'base': 'stations',\n",
       "  'main': {'temp': 5.57,\n",
       "   'feels_like': 5.57,\n",
       "   'temp_min': 3.47,\n",
       "   'temp_max': 7.41,\n",
       "   'pressure': 1022,\n",
       "   'humidity': 31},\n",
       "  'visibility': 10000,\n",
       "  'wind': {'speed': 0, 'deg': 0},\n",
       "  'clouds': {'all': 75},\n",
       "  'dt': 1639278470,\n",
       "  'sys': {'type': 2,\n",
       "   'id': 2010685,\n",
       "   'country': 'US',\n",
       "   'sunrise': 1639233714,\n",
       "   'sunset': 1639268780},\n",
       "  'timezone': -28800,\n",
       "  'id': 5506956,\n",
       "  'name': 'Las Vegas',\n",
       "  'cod': 200},\n",
       " {'coord': {'lon': 151.2073, 'lat': -33.8679},\n",
       "  'weather': [{'id': 801,\n",
       "    'main': 'Clouds',\n",
       "    'description': 'few clouds',\n",
       "    'icon': '02d'}],\n",
       "  'base': 'stations',\n",
       "  'main': {'temp': 21.97,\n",
       "   'feels_like': 21.76,\n",
       "   'temp_min': 20.75,\n",
       "   'temp_max': 24.33,\n",
       "   'pressure': 1016,\n",
       "   'humidity': 59},\n",
       "  'visibility': 10000,\n",
       "  'wind': {'speed': 5.81, 'deg': 180, 'gust': 7.6},\n",
       "  'clouds': {'all': 23},\n",
       "  'dt': 1639278450,\n",
       "  'sys': {'type': 2,\n",
       "   'id': 2001174,\n",
       "   'country': 'AU',\n",
       "   'sunrise': 1639247874,\n",
       "   'sunset': 1639299588},\n",
       "  'timezone': 39600,\n",
       "  'id': 2147714,\n",
       "  'name': 'Sydney',\n",
       "  'cod': 200},\n",
       " {'coord': {'lon': 114.1577, 'lat': 22.2855},\n",
       "  'weather': [{'id': 800,\n",
       "    'main': 'Clear',\n",
       "    'description': 'clear sky',\n",
       "    'icon': '01d'}],\n",
       "  'base': 'stations',\n",
       "  'main': {'temp': 23.07,\n",
       "   'feels_like': 23.31,\n",
       "   'temp_min': 21.99,\n",
       "   'temp_max': 23.91,\n",
       "   'pressure': 1022,\n",
       "   'humidity': 72},\n",
       "  'visibility': 10000,\n",
       "  'wind': {'speed': 2.68, 'deg': 225, 'gust': 4.92},\n",
       "  'clouds': {'all': 2},\n",
       "  'dt': 1639278439,\n",
       "  'sys': {'type': 2,\n",
       "   'id': 2035800,\n",
       "   'country': 'HK',\n",
       "   'sunrise': 1639263201,\n",
       "   'sunset': 1639302051},\n",
       "  'timezone': 28800,\n",
       "  'id': 1819729,\n",
       "  'name': 'Hong Kong',\n",
       "  'cod': 200}]"
      ]
     },
     "execution_count": 7,
     "metadata": {},
     "output_type": "execute_result"
    }
   ],
   "source": [
    "# A. base url\n",
    "base_url = \"http://api.openweathermap.org/data/2.5/weather\"\n",
    "\n",
    "# B. API Key\n",
    "api_key = \"7d8cdeac82c25a4f8262c64af2e5bd26\"\n",
    "\n",
    "# C. Query Filter (Search Query)\n",
    "query_city = [\"Los Angeles\", \"London\", \"Paris\", \"Las Vegas\", \"Sydney\", \"Hong Kong\"]\n",
    "query_units = \"metric\"\n",
    "\n",
    "# Create an empty list to append weather data for each city.\n",
    "weather_data = []\n",
    "\n",
    "# Query URL\n",
    "for city in query_city:\n",
    "    query_url = base_url + \"?apikey=\" + api_key + \"&q=\" + city + \"&units=\" + query_units\n",
    "    response = req.get(query_url).json()\n",
    "    weather_data.append(response)\n",
    "\n",
    "weather_data"
   ]
  },
  {
   "cell_type": "code",
   "execution_count": 8,
   "id": "c36f2daf",
   "metadata": {},
   "outputs": [
    {
     "data": {
      "text/plain": [
       "6"
      ]
     },
     "execution_count": 8,
     "metadata": {},
     "output_type": "execute_result"
    }
   ],
   "source": [
    "# Verify if weather_data is containing urls for all the 6 cities.\n",
    "len(weather_data)"
   ]
  },
  {
   "cell_type": "markdown",
   "id": "25f12426",
   "metadata": {},
   "source": [
    "#### Extracts data from multiple queries and store it in Pandas Dataframe"
   ]
  },
  {
   "cell_type": "markdown",
   "id": "01cc1956",
   "metadata": {},
   "source": [
    "##### Method 1 - Using For loop"
   ]
  },
  {
   "cell_type": "code",
   "execution_count": 9,
   "id": "580bdfb5",
   "metadata": {},
   "outputs": [
    {
     "name": "stdout",
     "output_type": "stream",
     "text": [
      "['Los Angeles', 'London', 'Paris', 'Las Vegas', 'Sydney', 'Hong Kong']\n",
      "[12.87, 10.96, 6.83, 5.57, 21.97, 23.07]\n",
      "['clear sky', 'scattered clouds', 'mist', 'broken clouds', 'few clouds', 'clear sky']\n"
     ]
    }
   ],
   "source": [
    "# Create an empty list for each variable.\n",
    "city_names = []\n",
    "temprature_data = []\n",
    "weather_description_data = []\n",
    "\n",
    "for data in weather_data:\n",
    "    city_names.append(data['name'])\n",
    "    temprature_data.append(data['main']['temp'])\n",
    "    weather_description_data.append(data['weather'][0]['description'])\n",
    "\n",
    "print(city_names)\n",
    "print(temprature_data)\n",
    "print(weather_description_data)"
   ]
  },
  {
   "cell_type": "markdown",
   "id": "1320bc05",
   "metadata": {},
   "source": [
    "##### Method 2 - Using List Comprehension"
   ]
  },
  {
   "cell_type": "code",
   "execution_count": 10,
   "id": "df806da5",
   "metadata": {},
   "outputs": [
    {
     "name": "stdout",
     "output_type": "stream",
     "text": [
      "['Los Angeles', 'London', 'Paris', 'Las Vegas', 'Sydney', 'Hong Kong']\n",
      "[12.87, 10.96, 6.83, 5.57, 21.97, 23.07]\n",
      "['clear sky', 'scattered clouds', 'mist', 'broken clouds', 'few clouds', 'clear sky']\n"
     ]
    }
   ],
   "source": [
    "city_names = [data['name'] for data in weather_data]\n",
    "temprature_data = [data['main']['temp'] for data in weather_data]\n",
    "weather_description_data = [data['weather'][0]['description'] for data in weather_data]\n",
    "\n",
    "print(city_names)\n",
    "print(temprature_data)\n",
    "print(weather_description_data)"
   ]
  },
  {
   "cell_type": "code",
   "execution_count": 11,
   "id": "54037bdb",
   "metadata": {},
   "outputs": [
    {
     "name": "stdout",
     "output_type": "stream",
     "text": [
      "{'city': ['Los Angeles', 'London', 'Paris', 'Las Vegas', 'Sydney', 'Hong Kong'], 'temprature_data': [12.87, 10.96, 6.83, 5.57, 21.97, 23.07], 'weather_description_data': ['clear sky', 'scattered clouds', 'mist', 'broken clouds', 'few clouds', 'clear sky']}\n"
     ]
    }
   ],
   "source": [
    "# Create dictionary for filtered data.\n",
    "\n",
    "weather_data = {\n",
    "    'city': city_names\n",
    "    , 'temprature_data': temprature_data\n",
    "    , 'weather_description_data': weather_description_data\n",
    "}\n",
    "\n",
    "print(weather_data)\n",
    "\n",
    "# type(weather_data) => dict"
   ]
  },
  {
   "cell_type": "code",
   "execution_count": 12,
   "id": "d16feeac",
   "metadata": {},
   "outputs": [
    {
     "data": {
      "text/html": [
       "<div>\n",
       "<style scoped>\n",
       "    .dataframe tbody tr th:only-of-type {\n",
       "        vertical-align: middle;\n",
       "    }\n",
       "\n",
       "    .dataframe tbody tr th {\n",
       "        vertical-align: top;\n",
       "    }\n",
       "\n",
       "    .dataframe thead th {\n",
       "        text-align: right;\n",
       "    }\n",
       "</style>\n",
       "<table border=\"1\" class=\"dataframe\">\n",
       "  <thead>\n",
       "    <tr style=\"text-align: right;\">\n",
       "      <th></th>\n",
       "      <th>city</th>\n",
       "      <th>temprature_data</th>\n",
       "      <th>weather_description_data</th>\n",
       "    </tr>\n",
       "  </thead>\n",
       "  <tbody>\n",
       "    <tr>\n",
       "      <th>0</th>\n",
       "      <td>Los Angeles</td>\n",
       "      <td>12.87</td>\n",
       "      <td>clear sky</td>\n",
       "    </tr>\n",
       "    <tr>\n",
       "      <th>1</th>\n",
       "      <td>London</td>\n",
       "      <td>10.96</td>\n",
       "      <td>scattered clouds</td>\n",
       "    </tr>\n",
       "    <tr>\n",
       "      <th>2</th>\n",
       "      <td>Paris</td>\n",
       "      <td>6.83</td>\n",
       "      <td>mist</td>\n",
       "    </tr>\n",
       "    <tr>\n",
       "      <th>3</th>\n",
       "      <td>Las Vegas</td>\n",
       "      <td>5.57</td>\n",
       "      <td>broken clouds</td>\n",
       "    </tr>\n",
       "    <tr>\n",
       "      <th>4</th>\n",
       "      <td>Sydney</td>\n",
       "      <td>21.97</td>\n",
       "      <td>few clouds</td>\n",
       "    </tr>\n",
       "    <tr>\n",
       "      <th>5</th>\n",
       "      <td>Hong Kong</td>\n",
       "      <td>23.07</td>\n",
       "      <td>clear sky</td>\n",
       "    </tr>\n",
       "  </tbody>\n",
       "</table>\n",
       "</div>"
      ],
      "text/plain": [
       "          city  temprature_data weather_description_data\n",
       "0  Los Angeles            12.87                clear sky\n",
       "1       London            10.96         scattered clouds\n",
       "2        Paris             6.83                     mist\n",
       "3    Las Vegas             5.57            broken clouds\n",
       "4       Sydney            21.97               few clouds\n",
       "5    Hong Kong            23.07                clear sky"
      ]
     },
     "execution_count": 12,
     "metadata": {},
     "output_type": "execute_result"
    }
   ],
   "source": [
    "# Convert to pandas dataframe\n",
    "weather_data = pd.DataFrame(weather_data)\n",
    "weather_data"
   ]
  }
 ],
 "metadata": {
  "kernelspec": {
   "display_name": "Python 3 (ipykernel)",
   "language": "python",
   "name": "python3"
  },
  "language_info": {
   "codemirror_mode": {
    "name": "ipython",
    "version": 3
   },
   "file_extension": ".py",
   "mimetype": "text/x-python",
   "name": "python",
   "nbconvert_exporter": "python",
   "pygments_lexer": "ipython3",
   "version": "3.8.12"
  }
 },
 "nbformat": 4,
 "nbformat_minor": 5
}
