{
 "cells": [
  {
   "cell_type": "markdown",
   "id": "8d608a27",
   "metadata": {},
   "source": [
    "# Documentation - Python Web API\n",
    "****\n",
    "\n",
    "## API (Application Programming Interface)\n",
    "- An Interaface used by programs to interact with applications. \n",
    "- APIs allows two different program to interact with each other.\n",
    "- Example: - Google Map APIs are used by Yelp, Uber, lyft.\n",
    "- Pros\n",
    "    - Time: saves lot of time of companies to create framework to interact with other applications.\n",
    "    - Focus: Companies focus on their own business. They can easily interact with other businesses via APIs.\n",
    "    - Cost: Comapnies saves a lot because of not spending to setup intermediate framework to interact with other businesses.\n",
    "    - Accessibility: - Almost APIs are accessible via any programming languages.\n",
    "- Cons\n",
    "    - Security: Using data of other companies is always a security issue.\n",
    "    - Reliability: Your busiess rely on API calls of another businesses, if API fails, then your business is at risk.\n",
    "    \n",
    "## REST (REpresentational State Transfer)\n",
    "- RE refers the resources provided in different forms like json, xml etc.\n",
    "- ST refers a type of transaction on these resources.\n",
    "\n",
    "## REST Server and Client Architecture\n",
    "- Request - Client is the device/application that request for the information.\n",
    "- Response - Server are the computer, who process the request and return result as response.\n",
    "- API sits between client and server. Which work as a bridge between two different software/programs.\n",
    "\n",
    "## Python API\n",
    "- Python sends response backin the form of JSON (Java Script Object Notation).\n",
    "- JSON is like a dictionary in Python.\n",
    "- JSON is a data format (a string), while dictionary is a Python Data Structure (In Memory Object)\n",
    "\n",
    "## API Requests\n",
    "- API Request = Base URL (endpoint) + API Key + Search Query \n",
    "- Base URL - is the url/website where we want to make request.\n",
    "- API Key - can be treated as authentication key.\n",
    "- Search Query - Query used to get desired result back.\n",
    "    - NOTE: - API Key or Search Key follows Base URL with '?' symbol. And multiple queries are separated by '&'.\n",
    "    - Example: http://api.openweathermap.org/data/2.5/weather?apikey=ad723490023421234&q=Cypress&Unit=metric"
   ]
  },
  {
   "cell_type": "markdown",
   "id": "ef3e2281",
   "metadata": {},
   "source": [
    "# OBJECTIVE\n",
    "***\n",
    "- Learn how to communicate with APIs in your python applicaiton.\n",
    "- Learn how to get data in JSON format.\n",
    "- Learn how to make multiple API calls.\n",
    "- Learn how to convert json response in Pandas dataframe.\n",
    "\n",
    "### Follow below 4 steps:\n",
    "- Import library dependencies\n",
    "- Create Query URL (which contains base uri, api key and search query)\n",
    "- Perform request call and convert response to JSON.\n",
    "- Extract data from JSON to dataframe."
   ]
  },
  {
   "cell_type": "markdown",
   "id": "28d0276b",
   "metadata": {},
   "source": [
    "# TASK\n",
    "***\n",
    "Get weather data from Los Angles city"
   ]
  },
  {
   "cell_type": "markdown",
   "id": "47aac28b",
   "metadata": {},
   "source": [
    "#### Step 0 - Create an API Key\n",
    "- Create account in https://openweathermap.org/\n",
    "- Go to My API Keys and collect default API Keys."
   ]
  },
  {
   "cell_type": "markdown",
   "id": "7c7f8fd8",
   "metadata": {},
   "source": [
    "#### Step 1 - Import dependent libraries"
   ]
  },
  {
   "cell_type": "code",
   "execution_count": 12,
   "id": "88ef1667",
   "metadata": {},
   "outputs": [],
   "source": [
    "__author__ = \"Deepak Mittal\"\n",
    "__copyright__ = \"Copyright 2019\"\n",
    "__email__ = \"dmdeepakmittal1@gmail.com\"\n",
    "\n",
    "import pandas as pd\n",
    "import json\n",
    "import requests as req"
   ]
  },
  {
   "cell_type": "markdown",
   "id": "aa6c0f80",
   "metadata": {},
   "source": [
    "#### Step 2 - Create Query URL"
   ]
  },
  {
   "cell_type": "code",
   "execution_count": 87,
   "id": "b50940f8",
   "metadata": {},
   "outputs": [
    {
     "data": {
      "text/plain": [
       "'http://api.openweathermap.org/data/2.5/weather?apikey=12c28f8b2ca1c171bc1df2ff383a4407&q=Los Angeles&units=metric'"
      ]
     },
     "execution_count": 87,
     "metadata": {},
     "output_type": "execute_result"
    }
   ],
   "source": [
    "# A. base url\n",
    "base_url = \"http://api.openweathermap.org/data/2.5/weather\"\n",
    "\n",
    "# B. API Key\n",
    "api_key = \"12c28f8b2ca1c171bc1df2ff383a4407\"\n",
    "\n",
    "# C. Query Filter (Search Query)\n",
    "query_city = \"Los Angeles\"\n",
    "query_units = \"metric\"\n",
    "\n",
    "# Query URL\n",
    "query_url = base_url + \"?apikey=\" + api_key + \"&q=\" + query_city + \"&units=\" + query_units\n",
    "\n",
    "query_url"
   ]
  },
  {
   "cell_type": "markdown",
   "id": "85c421d0",
   "metadata": {},
   "source": [
    "#### Step 3 - Perform a Request call and convert to JSON"
   ]
  },
  {
   "cell_type": "code",
   "execution_count": 118,
   "id": "1e713034",
   "metadata": {},
   "outputs": [
    {
     "data": {
      "text/plain": [
       "<Response [200]>"
      ]
     },
     "execution_count": 118,
     "metadata": {},
     "output_type": "execute_result"
    }
   ],
   "source": [
    "# Using req.get() method we can get a response from weather map api with the filtered queries.\n",
    "# Requests will allow to send HTTP requests using Python.\n",
    "# Response 200 means success.\n",
    "\n",
    "response = req.get(query_url)\n",
    "response\n",
    "# type(response)     => requests.models.Response"
   ]
  },
  {
   "cell_type": "code",
   "execution_count": 120,
   "id": "12df143a",
   "metadata": {},
   "outputs": [
    {
     "data": {
      "text/plain": [
       "{'coord': {'lon': -118.2437, 'lat': 34.0522},\n",
       " 'weather': [{'id': 800,\n",
       "   'main': 'Clear',\n",
       "   'description': 'clear sky',\n",
       "   'icon': '01n'}],\n",
       " 'base': 'stations',\n",
       " 'main': {'temp': 13.32,\n",
       "  'feels_like': 12.22,\n",
       "  'temp_min': 9.28,\n",
       "  'temp_max': 15.99,\n",
       "  'pressure': 1019,\n",
       "  'humidity': 58},\n",
       " 'visibility': 10000,\n",
       " 'wind': {'speed': 0, 'deg': 0},\n",
       " 'clouds': {'all': 1},\n",
       " 'dt': 1639276987,\n",
       " 'sys': {'type': 1,\n",
       "  'id': 3694,\n",
       "  'country': 'US',\n",
       "  'sunrise': 1639234129,\n",
       "  'sunset': 1639269855},\n",
       " 'timezone': -28800,\n",
       " 'id': 5368361,\n",
       " 'name': 'Los Angeles',\n",
       " 'cod': 200}"
      ]
     },
     "execution_count": 120,
     "metadata": {},
     "output_type": "execute_result"
    }
   ],
   "source": [
    "# response.json() will give the output in json format.\n",
    "resp  = response.json()\n",
    "resp\n",
    "# type(resp) => dict"
   ]
  },
  {
   "cell_type": "code",
   "execution_count": 122,
   "id": "6a5f7c0a",
   "metadata": {},
   "outputs": [
    {
     "name": "stdout",
     "output_type": "stream",
     "text": [
      "{\n",
      "    \"base\": \"stations\",\n",
      "    \"clouds\": {\n",
      "        \"all\": 1\n",
      "    },\n",
      "    \"cod\": 200,\n",
      "    \"coord\": {\n",
      "        \"lat\": 34.0522,\n",
      "        \"lon\": -118.2437\n",
      "    },\n",
      "    \"dt\": 1639276987,\n",
      "    \"id\": 5368361,\n",
      "    \"main\": {\n",
      "        \"feels_like\": 12.22,\n",
      "        \"humidity\": 58,\n",
      "        \"pressure\": 1019,\n",
      "        \"temp\": 13.32,\n",
      "        \"temp_max\": 15.99,\n",
      "        \"temp_min\": 9.28\n",
      "    },\n",
      "    \"name\": \"Los Angeles\",\n",
      "    \"sys\": {\n",
      "        \"country\": \"US\",\n",
      "        \"id\": 3694,\n",
      "        \"sunrise\": 1639234129,\n",
      "        \"sunset\": 1639269855,\n",
      "        \"type\": 1\n",
      "    },\n",
      "    \"timezone\": -28800,\n",
      "    \"visibility\": 10000,\n",
      "    \"weather\": [\n",
      "        {\n",
      "            \"description\": \"clear sky\",\n",
      "            \"icon\": \"01n\",\n",
      "            \"id\": 800,\n",
      "            \"main\": \"Clear\"\n",
      "        }\n",
      "    ],\n",
      "    \"wind\": {\n",
      "        \"deg\": 0,\n",
      "        \"speed\": 0\n",
      "    }\n",
      "}\n"
     ]
    }
   ],
   "source": [
    "# use json.loads() to align and parse the response in proper format.\n",
    "print(json.dumps(resp, indent=4, sort_keys=True))"
   ]
  },
  {
   "cell_type": "markdown",
   "id": "f78f645f",
   "metadata": {},
   "source": [
    "#### Step 4 - Extract data from json format"
   ]
  },
  {
   "cell_type": "code",
   "execution_count": 37,
   "id": "50e79381",
   "metadata": {},
   "outputs": [
    {
     "name": "stdout",
     "output_type": "stream",
     "text": [
      "Temprature is : 10.98\n",
      "Weather desc is : clear sky\n"
     ]
    }
   ],
   "source": [
    "temprature = response['main']['temp']\n",
    "print(\"Temprature is : \" + str(temprature))\n",
    "\n",
    "weather_desc = response['weather'][0]['description']\n",
    "print(\"Weather desc is : \" + weather_desc)"
   ]
  },
  {
   "cell_type": "markdown",
   "id": "6d4aedb1",
   "metadata": {},
   "source": [
    "#### Performing Multiple API Calls\n",
    "Example - Fetch weather details for multiple countries."
   ]
  },
  {
   "cell_type": "code",
   "execution_count": 54,
   "id": "87c667e3",
   "metadata": {},
   "outputs": [
    {
     "data": {
      "text/plain": [
       "[{'coord': {'lon': -118.2437, 'lat': 34.0522},\n",
       "  'weather': [{'id': 800,\n",
       "    'main': 'Clear',\n",
       "    'description': 'clear sky',\n",
       "    'icon': '01n'}],\n",
       "  'base': 'stations',\n",
       "  'main': {'temp': 10.93,\n",
       "   'feels_like': 10.09,\n",
       "   'temp_min': 6.5,\n",
       "   'temp_max': 14.14,\n",
       "   'pressure': 1022,\n",
       "   'humidity': 77},\n",
       "  'visibility': 10000,\n",
       "  'wind': {'speed': 0, 'deg': 0},\n",
       "  'clouds': {'all': 1},\n",
       "  'dt': 1639204027,\n",
       "  'sys': {'type': 1,\n",
       "   'id': 3694,\n",
       "   'country': 'US',\n",
       "   'sunrise': 1639147686,\n",
       "   'sunset': 1639183445},\n",
       "  'timezone': -28800,\n",
       "  'id': 5368361,\n",
       "  'name': 'Los Angeles',\n",
       "  'cod': 200},\n",
       " {'coord': {'lon': -0.1257, 'lat': 51.5085},\n",
       "  'weather': [{'id': 802,\n",
       "    'main': 'Clouds',\n",
       "    'description': 'scattered clouds',\n",
       "    'icon': '03n'}],\n",
       "  'base': 'stations',\n",
       "  'main': {'temp': 2.27,\n",
       "   'feels_like': -1.57,\n",
       "   'temp_min': -0.17,\n",
       "   'temp_max': 4.76,\n",
       "   'pressure': 1015,\n",
       "   'humidity': 91},\n",
       "  'visibility': 10000,\n",
       "  'wind': {'speed': 4.12, 'deg': 230},\n",
       "  'clouds': {'all': 39},\n",
       "  'dt': 1639203984,\n",
       "  'sys': {'type': 2,\n",
       "   'id': 2019646,\n",
       "   'country': 'GB',\n",
       "   'sunrise': 1639209376,\n",
       "   'sunset': 1639237894},\n",
       "  'timezone': 0,\n",
       "  'id': 2643743,\n",
       "  'name': 'London',\n",
       "  'cod': 200},\n",
       " {'coord': {'lon': 2.3488, 'lat': 48.8534},\n",
       "  'weather': [{'id': 800,\n",
       "    'main': 'Clear',\n",
       "    'description': 'clear sky',\n",
       "    'icon': '01n'}],\n",
       "  'base': 'stations',\n",
       "  'main': {'temp': 1.86,\n",
       "   'feels_like': -0.36,\n",
       "   'temp_min': 0.29,\n",
       "   'temp_max': 3.45,\n",
       "   'pressure': 1016,\n",
       "   'humidity': 93},\n",
       "  'visibility': 10000,\n",
       "  'wind': {'speed': 2.06, 'deg': 270},\n",
       "  'clouds': {'all': 0},\n",
       "  'dt': 1639203982,\n",
       "  'sys': {'type': 2,\n",
       "   'id': 2012208,\n",
       "   'country': 'FR',\n",
       "   'sunrise': 1639208048,\n",
       "   'sunset': 1639238035},\n",
       "  'timezone': 3600,\n",
       "  'id': 2988507,\n",
       "  'name': 'Paris',\n",
       "  'cod': 200},\n",
       " {'coord': {'lon': -115.1372, 'lat': 36.175},\n",
       "  'weather': [{'id': 800,\n",
       "    'main': 'Clear',\n",
       "    'description': 'clear sky',\n",
       "    'icon': '01n'}],\n",
       "  'base': 'stations',\n",
       "  'main': {'temp': 4.81,\n",
       "   'feels_like': 3.68,\n",
       "   'temp_min': 2.18,\n",
       "   'temp_max': 6.38,\n",
       "   'pressure': 1026,\n",
       "   'humidity': 36},\n",
       "  'visibility': 10000,\n",
       "  'wind': {'speed': 1.54, 'deg': 120},\n",
       "  'clouds': {'all': 1},\n",
       "  'dt': 1639203873,\n",
       "  'sys': {'type': 1,\n",
       "   'id': 6171,\n",
       "   'country': 'US',\n",
       "   'sunrise': 1639147269,\n",
       "   'sunset': 1639182370},\n",
       "  'timezone': -28800,\n",
       "  'id': 5506956,\n",
       "  'name': 'Las Vegas',\n",
       "  'cod': 200},\n",
       " {'coord': {'lon': 151.2073, 'lat': -33.8679},\n",
       "  'weather': [{'id': 803,\n",
       "    'main': 'Clouds',\n",
       "    'description': 'broken clouds',\n",
       "    'icon': '04d'}],\n",
       "  'base': 'stations',\n",
       "  'main': {'temp': 19.95,\n",
       "   'feels_like': 19.67,\n",
       "   'temp_min': 19.1,\n",
       "   'temp_max': 20.76,\n",
       "   'pressure': 1013,\n",
       "   'humidity': 64},\n",
       "  'visibility': 10000,\n",
       "  'wind': {'speed': 0.45, 'deg': 220, 'gust': 2.24},\n",
       "  'clouds': {'all': 75},\n",
       "  'dt': 1639203792,\n",
       "  'sys': {'type': 2,\n",
       "   'id': 2018875,\n",
       "   'country': 'AU',\n",
       "   'sunrise': 1639161463,\n",
       "   'sunset': 1639213145},\n",
       "  'timezone': 39600,\n",
       "  'id': 2147714,\n",
       "  'name': 'Sydney',\n",
       "  'cod': 200},\n",
       " {'coord': {'lon': 114.1577, 'lat': 22.2855},\n",
       "  'weather': [{'id': 801,\n",
       "    'main': 'Clouds',\n",
       "    'description': 'few clouds',\n",
       "    'icon': '02d'}],\n",
       "  'base': 'stations',\n",
       "  'main': {'temp': 23.59,\n",
       "   'feels_like': 23.83,\n",
       "   'temp_min': 21.99,\n",
       "   'temp_max': 24.1,\n",
       "   'pressure': 1022,\n",
       "   'humidity': 70},\n",
       "  'visibility': 10000,\n",
       "  'wind': {'speed': 0.45, 'deg': 6, 'gust': 1.34},\n",
       "  'clouds': {'all': 18},\n",
       "  'dt': 1639204024,\n",
       "  'sys': {'type': 2,\n",
       "   'id': 2035800,\n",
       "   'country': 'HK',\n",
       "   'sunrise': 1639176764,\n",
       "   'sunset': 1639215633},\n",
       "  'timezone': 28800,\n",
       "  'id': 1819729,\n",
       "  'name': 'Hong Kong',\n",
       "  'cod': 200}]"
      ]
     },
     "execution_count": 54,
     "metadata": {},
     "output_type": "execute_result"
    }
   ],
   "source": [
    "# A. base url\n",
    "base_url = \"http://api.openweathermap.org/data/2.5/weather\"\n",
    "\n",
    "# B. API Key\n",
    "api_key = \"388bda713b6321137448bd2af914b15b\"\n",
    "\n",
    "# C. Query Filter (Search Query)\n",
    "query_city = [\"Los Angeles\", \"London\", \"Paris\", \"Las Vegas\", \"Sydney\", \"Hong Kong\"]\n",
    "query_units = \"metric\"\n",
    "\n",
    "# Create an empty list to append weather data for each city.\n",
    "weather_data = []\n",
    "\n",
    "# Query URL\n",
    "for city in query_city:\n",
    "    query_url = base_url + \"?apikey=\" + api_key + \"&q=\" + city + \"&units=\" + query_units\n",
    "    response = req.get(query_url).json()\n",
    "    weather_data.append(response)\n",
    "\n",
    "weather_data"
   ]
  },
  {
   "cell_type": "code",
   "execution_count": 39,
   "id": "c36f2daf",
   "metadata": {},
   "outputs": [
    {
     "data": {
      "text/plain": [
       "6"
      ]
     },
     "execution_count": 39,
     "metadata": {},
     "output_type": "execute_result"
    }
   ],
   "source": [
    "# Verify if weather_data is containing urls for all the 6 cities.\n",
    "len(weather_data)"
   ]
  },
  {
   "cell_type": "markdown",
   "id": "25f12426",
   "metadata": {},
   "source": [
    "#### Extracts data from multiple queries and store it in Pandas Dataframe"
   ]
  },
  {
   "cell_type": "markdown",
   "id": "01cc1956",
   "metadata": {},
   "source": [
    "##### Method 1 - Using For loop"
   ]
  },
  {
   "cell_type": "code",
   "execution_count": 58,
   "id": "580bdfb5",
   "metadata": {},
   "outputs": [
    {
     "name": "stdout",
     "output_type": "stream",
     "text": [
      "['Los Angeles', 'London', 'Paris', 'Las Vegas', 'Sydney', 'Hong Kong']\n",
      "[10.93, 2.27, 1.86, 4.81, 19.95, 23.59]\n",
      "['clear sky', 'scattered clouds', 'clear sky', 'clear sky', 'broken clouds', 'few clouds']\n"
     ]
    }
   ],
   "source": [
    "# Create an empty list for each variable.\n",
    "city_names = []\n",
    "temprature_data = []\n",
    "weather_description_data = []\n",
    "\n",
    "for data in weather_data:\n",
    "    city_names.append(data['name'])\n",
    "    temprature_data.append(data['main']['temp'])\n",
    "    weather_description_data.append(data['weather'][0]['description'])\n",
    "\n",
    "print(city_names)\n",
    "print(temprature_data)\n",
    "print(weather_description_data)"
   ]
  },
  {
   "cell_type": "markdown",
   "id": "1320bc05",
   "metadata": {},
   "source": [
    "##### Method 2 - Using List Comprehension"
   ]
  },
  {
   "cell_type": "code",
   "execution_count": 67,
   "id": "df806da5",
   "metadata": {},
   "outputs": [
    {
     "name": "stdout",
     "output_type": "stream",
     "text": [
      "['Los Angeles', 'London', 'Paris', 'Las Vegas', 'Sydney', 'Hong Kong']\n",
      "[10.93, 2.27, 1.86, 4.81, 19.95, 23.59]\n",
      "['clear sky', 'scattered clouds', 'clear sky', 'clear sky', 'broken clouds', 'few clouds']\n"
     ]
    }
   ],
   "source": [
    "city_names = [data['name'] for data in weather_data]\n",
    "temprature_data = [data['main']['temp'] for data in weather_data]\n",
    "weather_description_data = [data['weather'][0]['description'] for data in weather_data]\n",
    "\n",
    "print(city_names)\n",
    "print(temprature_data)\n",
    "print(weather_description_data)"
   ]
  },
  {
   "cell_type": "code",
   "execution_count": 68,
   "id": "54037bdb",
   "metadata": {},
   "outputs": [
    {
     "name": "stdout",
     "output_type": "stream",
     "text": [
      "{'city': ['Los Angeles', 'London', 'Paris', 'Las Vegas', 'Sydney', 'Hong Kong'], 'temprature_data': [10.93, 2.27, 1.86, 4.81, 19.95, 23.59], 'weather_description_data': ['clear sky', 'scattered clouds', 'clear sky', 'clear sky', 'broken clouds', 'few clouds']}\n"
     ]
    }
   ],
   "source": [
    "# Create dictionary for filtered data.\n",
    "\n",
    "weather_data = {\n",
    "    'city': city_names\n",
    "    , 'temprature_data': temprature_data\n",
    "    , 'weather_description_data': weather_description_data\n",
    "}\n",
    "\n",
    "print(weather_data)"
   ]
  },
  {
   "cell_type": "code",
   "execution_count": 72,
   "id": "d16feeac",
   "metadata": {},
   "outputs": [
    {
     "data": {
      "text/html": [
       "<div>\n",
       "<style scoped>\n",
       "    .dataframe tbody tr th:only-of-type {\n",
       "        vertical-align: middle;\n",
       "    }\n",
       "\n",
       "    .dataframe tbody tr th {\n",
       "        vertical-align: top;\n",
       "    }\n",
       "\n",
       "    .dataframe thead th {\n",
       "        text-align: right;\n",
       "    }\n",
       "</style>\n",
       "<table border=\"1\" class=\"dataframe\">\n",
       "  <thead>\n",
       "    <tr style=\"text-align: right;\">\n",
       "      <th></th>\n",
       "      <th>city</th>\n",
       "      <th>temprature_data</th>\n",
       "      <th>weather_description_data</th>\n",
       "    </tr>\n",
       "  </thead>\n",
       "  <tbody>\n",
       "    <tr>\n",
       "      <th>0</th>\n",
       "      <td>Los Angeles</td>\n",
       "      <td>10.93</td>\n",
       "      <td>clear sky</td>\n",
       "    </tr>\n",
       "    <tr>\n",
       "      <th>1</th>\n",
       "      <td>London</td>\n",
       "      <td>2.27</td>\n",
       "      <td>scattered clouds</td>\n",
       "    </tr>\n",
       "    <tr>\n",
       "      <th>2</th>\n",
       "      <td>Paris</td>\n",
       "      <td>1.86</td>\n",
       "      <td>clear sky</td>\n",
       "    </tr>\n",
       "    <tr>\n",
       "      <th>3</th>\n",
       "      <td>Las Vegas</td>\n",
       "      <td>4.81</td>\n",
       "      <td>clear sky</td>\n",
       "    </tr>\n",
       "    <tr>\n",
       "      <th>4</th>\n",
       "      <td>Sydney</td>\n",
       "      <td>19.95</td>\n",
       "      <td>broken clouds</td>\n",
       "    </tr>\n",
       "    <tr>\n",
       "      <th>5</th>\n",
       "      <td>Hong Kong</td>\n",
       "      <td>23.59</td>\n",
       "      <td>few clouds</td>\n",
       "    </tr>\n",
       "  </tbody>\n",
       "</table>\n",
       "</div>"
      ],
      "text/plain": [
       "          city  temprature_data weather_description_data\n",
       "0  Los Angeles            10.93                clear sky\n",
       "1       London             2.27         scattered clouds\n",
       "2        Paris             1.86                clear sky\n",
       "3    Las Vegas             4.81                clear sky\n",
       "4       Sydney            19.95            broken clouds\n",
       "5    Hong Kong            23.59               few clouds"
      ]
     },
     "execution_count": 72,
     "metadata": {},
     "output_type": "execute_result"
    }
   ],
   "source": [
    "# Convert to pandas dataframe\n",
    "weather_data = pd.DataFrame(weather_data)\n",
    "weather_data"
   ]
  }
 ],
 "metadata": {
  "kernelspec": {
   "display_name": "Python 3 (ipykernel)",
   "language": "python",
   "name": "python3"
  },
  "language_info": {
   "codemirror_mode": {
    "name": "ipython",
    "version": 3
   },
   "file_extension": ".py",
   "mimetype": "text/x-python",
   "name": "python",
   "nbconvert_exporter": "python",
   "pygments_lexer": "ipython3",
   "version": "3.8.12"
  }
 },
 "nbformat": 4,
 "nbformat_minor": 5
}
